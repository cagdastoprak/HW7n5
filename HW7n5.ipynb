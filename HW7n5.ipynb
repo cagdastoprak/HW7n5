{
  "nbformat": 4,
  "nbformat_minor": 0,
  "metadata": {
    "colab": {
      "name": "HW7n5",
      "provenance": []
    },
    "kernelspec": {
      "name": "python3",
      "display_name": "Python 3"
    }
  },
  "cells": [
    {
      "cell_type": "code",
      "metadata": {
        "id": "jeBXjcyKPXDn",
        "colab_type": "code",
        "colab": {
          "base_uri": "https://localhost:8080/",
          "height": 121
        },
        "outputId": "ef8f79fc-e7e3-4aa8-d93f-589a41c143fb"
      },
      "source": [
        "from google.colab import drive\n",
        "drive.mount('/content/drive')"
      ],
      "execution_count": 1,
      "outputs": [
        {
          "output_type": "stream",
          "text": [
            "Go to this URL in a browser: https://accounts.google.com/o/oauth2/auth?client_id=947318989803-6bn6qk8qdgf4n4g3pfee6491hc0brc4i.apps.googleusercontent.com&redirect_uri=urn%3aietf%3awg%3aoauth%3a2.0%3aoob&response_type=code&scope=email%20https%3a%2f%2fwww.googleapis.com%2fauth%2fdocs.test%20https%3a%2f%2fwww.googleapis.com%2fauth%2fdrive%20https%3a%2f%2fwww.googleapis.com%2fauth%2fdrive.photos.readonly%20https%3a%2f%2fwww.googleapis.com%2fauth%2fpeopleapi.readonly\n",
            "\n",
            "Enter your authorization code:\n",
            "··········\n",
            "Mounted at /content/drive\n"
          ],
          "name": "stdout"
        }
      ]
    },
    {
      "cell_type": "code",
      "metadata": {
        "id": "VLzhPzCBeOM3",
        "colab_type": "code",
        "colab": {
          "base_uri": "https://localhost:8080/",
          "height": 50
        },
        "outputId": "6ce32028-ffa0-4c3d-9c26-fe3b600e4538"
      },
      "source": [
        "%cd /content/drive/My\\ Drive/Colab\\ Notebooks/data/Titanic\n",
        "# change directory\n",
        "%pwd  # Ben neredeyim komutu\n",
        "!ls    # İçerisinde ne var "
      ],
      "execution_count": 2,
      "outputs": [
        {
          "output_type": "stream",
          "text": [
            "/content/drive/My Drive/Colab Notebooks/data/Titanic\n",
            "gender_submission.csv  test.csv  train.csv\n"
          ],
          "name": "stdout"
        }
      ]
    },
    {
      "cell_type": "code",
      "metadata": {
        "id": "UdXscSP6eRiG",
        "colab_type": "code",
        "colab": {
          "base_uri": "https://localhost:8080/",
          "height": 70
        },
        "outputId": "1b819012-2442-4183-d77a-d847127e6eb7"
      },
      "source": [
        "import pandas as pd\n",
        "import numpy as np\n",
        "from sklearn import linear_model\n",
        "from sklearn.linear_model import LinearRegression\n",
        "from sklearn.model_selection import train_test_split\n",
        "from sklearn.metrics import mean_absolute_error\n",
        "import statsmodels.api as sm\n",
        "from statsmodels.tools.eval_measures import mse, rmse\n",
        "\n",
        "%matplotlib inline\n",
        "pd.options.display.float_format = '{:.3f}'.format\n",
        "\n",
        "import matplotlib.pyplot as plt\n",
        "import seaborn as sns\n",
        "import statsmodels.api as sm\n",
        "from sklearn import linear_model\n",
        "import math\n",
        "#from matplotlib.mlab import PCA as mlabPCA\n",
        "from sklearn.preprocessing import StandardScaler\n",
        "from sklearn.decomposition import PCA\n",
        "from sqlalchemy import create_engine\n",
        "pd.options.display.max_columns = None #kolon ve satır gösterim limitlerini sıfırlamak\n",
        "pd.options.display.max_rows = None  #kolon ve satır gösterim limitlerini sıfırlamak\n",
        "import warnings\n",
        "\n",
        "warnings.filterwarnings('ignore')\n",
        "\n",
        "%matplotlib inline\n",
        "pd.options.display.float_format = '{:.3f}'.format"
      ],
      "execution_count": 3,
      "outputs": [
        {
          "output_type": "stream",
          "text": [
            "/usr/local/lib/python3.6/dist-packages/statsmodels/tools/_testing.py:19: FutureWarning: pandas.util.testing is deprecated. Use the functions in the public API at pandas.testing instead.\n",
            "  import pandas.util.testing as tm\n"
          ],
          "name": "stderr"
        }
      ]
    },
    {
      "cell_type": "code",
      "metadata": {
        "id": "MHQE55_YeWqq",
        "colab_type": "code",
        "colab": {
          "base_uri": "https://localhost:8080/",
          "height": 195
        },
        "outputId": "f373eb1e-38d0-4488-cd58-37e348340f7d"
      },
      "source": [
        "original_data = pd.read_csv(\"train.csv\")\n",
        "data=original_data.copy()\n",
        "original_data.head()"
      ],
      "execution_count": 4,
      "outputs": [
        {
          "output_type": "execute_result",
          "data": {
            "text/html": [
              "<div>\n",
              "<style scoped>\n",
              "    .dataframe tbody tr th:only-of-type {\n",
              "        vertical-align: middle;\n",
              "    }\n",
              "\n",
              "    .dataframe tbody tr th {\n",
              "        vertical-align: top;\n",
              "    }\n",
              "\n",
              "    .dataframe thead th {\n",
              "        text-align: right;\n",
              "    }\n",
              "</style>\n",
              "<table border=\"1\" class=\"dataframe\">\n",
              "  <thead>\n",
              "    <tr style=\"text-align: right;\">\n",
              "      <th></th>\n",
              "      <th>PassengerId</th>\n",
              "      <th>Survived</th>\n",
              "      <th>Pclass</th>\n",
              "      <th>Name</th>\n",
              "      <th>Sex</th>\n",
              "      <th>Age</th>\n",
              "      <th>SibSp</th>\n",
              "      <th>Parch</th>\n",
              "      <th>Ticket</th>\n",
              "      <th>Fare</th>\n",
              "      <th>Cabin</th>\n",
              "      <th>Embarked</th>\n",
              "    </tr>\n",
              "  </thead>\n",
              "  <tbody>\n",
              "    <tr>\n",
              "      <th>0</th>\n",
              "      <td>1</td>\n",
              "      <td>0</td>\n",
              "      <td>3</td>\n",
              "      <td>Braund, Mr. Owen Harris</td>\n",
              "      <td>male</td>\n",
              "      <td>22.000</td>\n",
              "      <td>1</td>\n",
              "      <td>0</td>\n",
              "      <td>A/5 21171</td>\n",
              "      <td>7.250</td>\n",
              "      <td>NaN</td>\n",
              "      <td>S</td>\n",
              "    </tr>\n",
              "    <tr>\n",
              "      <th>1</th>\n",
              "      <td>2</td>\n",
              "      <td>1</td>\n",
              "      <td>1</td>\n",
              "      <td>Cumings, Mrs. John Bradley (Florence Briggs Th...</td>\n",
              "      <td>female</td>\n",
              "      <td>38.000</td>\n",
              "      <td>1</td>\n",
              "      <td>0</td>\n",
              "      <td>PC 17599</td>\n",
              "      <td>71.283</td>\n",
              "      <td>C85</td>\n",
              "      <td>C</td>\n",
              "    </tr>\n",
              "    <tr>\n",
              "      <th>2</th>\n",
              "      <td>3</td>\n",
              "      <td>1</td>\n",
              "      <td>3</td>\n",
              "      <td>Heikkinen, Miss. Laina</td>\n",
              "      <td>female</td>\n",
              "      <td>26.000</td>\n",
              "      <td>0</td>\n",
              "      <td>0</td>\n",
              "      <td>STON/O2. 3101282</td>\n",
              "      <td>7.925</td>\n",
              "      <td>NaN</td>\n",
              "      <td>S</td>\n",
              "    </tr>\n",
              "    <tr>\n",
              "      <th>3</th>\n",
              "      <td>4</td>\n",
              "      <td>1</td>\n",
              "      <td>1</td>\n",
              "      <td>Futrelle, Mrs. Jacques Heath (Lily May Peel)</td>\n",
              "      <td>female</td>\n",
              "      <td>35.000</td>\n",
              "      <td>1</td>\n",
              "      <td>0</td>\n",
              "      <td>113803</td>\n",
              "      <td>53.100</td>\n",
              "      <td>C123</td>\n",
              "      <td>S</td>\n",
              "    </tr>\n",
              "    <tr>\n",
              "      <th>4</th>\n",
              "      <td>5</td>\n",
              "      <td>0</td>\n",
              "      <td>3</td>\n",
              "      <td>Allen, Mr. William Henry</td>\n",
              "      <td>male</td>\n",
              "      <td>35.000</td>\n",
              "      <td>0</td>\n",
              "      <td>0</td>\n",
              "      <td>373450</td>\n",
              "      <td>8.050</td>\n",
              "      <td>NaN</td>\n",
              "      <td>S</td>\n",
              "    </tr>\n",
              "  </tbody>\n",
              "</table>\n",
              "</div>"
            ],
            "text/plain": [
              "   PassengerId  Survived  Pclass  \\\n",
              "0            1         0       3   \n",
              "1            2         1       1   \n",
              "2            3         1       3   \n",
              "3            4         1       1   \n",
              "4            5         0       3   \n",
              "\n",
              "                                                Name     Sex    Age  SibSp  \\\n",
              "0                            Braund, Mr. Owen Harris    male 22.000      1   \n",
              "1  Cumings, Mrs. John Bradley (Florence Briggs Th...  female 38.000      1   \n",
              "2                             Heikkinen, Miss. Laina  female 26.000      0   \n",
              "3       Futrelle, Mrs. Jacques Heath (Lily May Peel)  female 35.000      1   \n",
              "4                           Allen, Mr. William Henry    male 35.000      0   \n",
              "\n",
              "   Parch            Ticket   Fare Cabin Embarked  \n",
              "0      0         A/5 21171  7.250   NaN        S  \n",
              "1      0          PC 17599 71.283   C85        C  \n",
              "2      0  STON/O2. 3101282  7.925   NaN        S  \n",
              "3      0            113803 53.100  C123        S  \n",
              "4      0            373450  8.050   NaN        S  "
            ]
          },
          "metadata": {
            "tags": []
          },
          "execution_count": 4
        }
      ]
    },
    {
      "cell_type": "code",
      "metadata": {
        "id": "zbV7CGeufASd",
        "colab_type": "code",
        "colab": {
          "base_uri": "https://localhost:8080/",
          "height": 118
        },
        "outputId": "cd28a3ec-271a-4590-972d-c398a5764b0f"
      },
      "source": [
        "X=data[['Pclass','Sex','SibSp','Parch','Fare','Embarked']]\n",
        "X.head()\n",
        "Y=data['Survived']\n",
        "Y.head()"
      ],
      "execution_count": 5,
      "outputs": [
        {
          "output_type": "execute_result",
          "data": {
            "text/plain": [
              "0    0\n",
              "1    1\n",
              "2    1\n",
              "3    1\n",
              "4    0\n",
              "Name: Survived, dtype: int64"
            ]
          },
          "metadata": {
            "tags": []
          },
          "execution_count": 5
        }
      ]
    },
    {
      "cell_type": "code",
      "metadata": {
        "id": "PF9OO0H3f5-m",
        "colab_type": "code",
        "colab": {
          "base_uri": "https://localhost:8080/",
          "height": 195
        },
        "outputId": "05d1439d-cc86-4a52-e4ae-a504c280a11d"
      },
      "source": [
        "X=pd.get_dummies(X,prefix_sep='_',drop_first=True)\n",
        "X.head()"
      ],
      "execution_count": 6,
      "outputs": [
        {
          "output_type": "execute_result",
          "data": {
            "text/html": [
              "<div>\n",
              "<style scoped>\n",
              "    .dataframe tbody tr th:only-of-type {\n",
              "        vertical-align: middle;\n",
              "    }\n",
              "\n",
              "    .dataframe tbody tr th {\n",
              "        vertical-align: top;\n",
              "    }\n",
              "\n",
              "    .dataframe thead th {\n",
              "        text-align: right;\n",
              "    }\n",
              "</style>\n",
              "<table border=\"1\" class=\"dataframe\">\n",
              "  <thead>\n",
              "    <tr style=\"text-align: right;\">\n",
              "      <th></th>\n",
              "      <th>Pclass</th>\n",
              "      <th>SibSp</th>\n",
              "      <th>Parch</th>\n",
              "      <th>Fare</th>\n",
              "      <th>Sex_male</th>\n",
              "      <th>Embarked_Q</th>\n",
              "      <th>Embarked_S</th>\n",
              "    </tr>\n",
              "  </thead>\n",
              "  <tbody>\n",
              "    <tr>\n",
              "      <th>0</th>\n",
              "      <td>3</td>\n",
              "      <td>1</td>\n",
              "      <td>0</td>\n",
              "      <td>7.250</td>\n",
              "      <td>1</td>\n",
              "      <td>0</td>\n",
              "      <td>1</td>\n",
              "    </tr>\n",
              "    <tr>\n",
              "      <th>1</th>\n",
              "      <td>1</td>\n",
              "      <td>1</td>\n",
              "      <td>0</td>\n",
              "      <td>71.283</td>\n",
              "      <td>0</td>\n",
              "      <td>0</td>\n",
              "      <td>0</td>\n",
              "    </tr>\n",
              "    <tr>\n",
              "      <th>2</th>\n",
              "      <td>3</td>\n",
              "      <td>0</td>\n",
              "      <td>0</td>\n",
              "      <td>7.925</td>\n",
              "      <td>0</td>\n",
              "      <td>0</td>\n",
              "      <td>1</td>\n",
              "    </tr>\n",
              "    <tr>\n",
              "      <th>3</th>\n",
              "      <td>1</td>\n",
              "      <td>1</td>\n",
              "      <td>0</td>\n",
              "      <td>53.100</td>\n",
              "      <td>0</td>\n",
              "      <td>0</td>\n",
              "      <td>1</td>\n",
              "    </tr>\n",
              "    <tr>\n",
              "      <th>4</th>\n",
              "      <td>3</td>\n",
              "      <td>0</td>\n",
              "      <td>0</td>\n",
              "      <td>8.050</td>\n",
              "      <td>1</td>\n",
              "      <td>0</td>\n",
              "      <td>1</td>\n",
              "    </tr>\n",
              "  </tbody>\n",
              "</table>\n",
              "</div>"
            ],
            "text/plain": [
              "   Pclass  SibSp  Parch   Fare  Sex_male  Embarked_Q  Embarked_S\n",
              "0       3      1      0  7.250         1           0           1\n",
              "1       1      1      0 71.283         0           0           0\n",
              "2       3      0      0  7.925         0           0           1\n",
              "3       1      1      0 53.100         0           0           1\n",
              "4       3      0      0  8.050         1           0           1"
            ]
          },
          "metadata": {
            "tags": []
          },
          "execution_count": 6
        }
      ]
    },
    {
      "cell_type": "code",
      "metadata": {
        "id": "vwYt5hvjgUh6",
        "colab_type": "code",
        "colab": {
          "base_uri": "https://localhost:8080/",
          "height": 252
        },
        "outputId": "76a247be-6817-45a1-e938-613a724ba239"
      },
      "source": [
        "X.info()"
      ],
      "execution_count": 7,
      "outputs": [
        {
          "output_type": "stream",
          "text": [
            "<class 'pandas.core.frame.DataFrame'>\n",
            "RangeIndex: 891 entries, 0 to 890\n",
            "Data columns (total 7 columns):\n",
            " #   Column      Non-Null Count  Dtype  \n",
            "---  ------      --------------  -----  \n",
            " 0   Pclass      891 non-null    int64  \n",
            " 1   SibSp       891 non-null    int64  \n",
            " 2   Parch       891 non-null    int64  \n",
            " 3   Fare        891 non-null    float64\n",
            " 4   Sex_male    891 non-null    uint8  \n",
            " 5   Embarked_Q  891 non-null    uint8  \n",
            " 6   Embarked_S  891 non-null    uint8  \n",
            "dtypes: float64(1), int64(3), uint8(3)\n",
            "memory usage: 30.6 KB\n"
          ],
          "name": "stdout"
        }
      ]
    },
    {
      "cell_type": "code",
      "metadata": {
        "id": "tYV3TtBpgkI_",
        "colab_type": "code",
        "colab": {}
      },
      "source": [
        "#X['Age'].unique()"
      ],
      "execution_count": 8,
      "outputs": []
    },
    {
      "cell_type": "code",
      "metadata": {
        "id": "KzVIkvh1hUlR",
        "colab_type": "code",
        "colab": {}
      },
      "source": [
        "#X = X[~np.isnan(X['Age'])]"
      ],
      "execution_count": 9,
      "outputs": []
    },
    {
      "cell_type": "code",
      "metadata": {
        "id": "MNDL-dK-hgPx",
        "colab_type": "code",
        "colab": {}
      },
      "source": [
        "#X['Age'].unique()"
      ],
      "execution_count": 10,
      "outputs": []
    },
    {
      "cell_type": "code",
      "metadata": {
        "id": "NygODUI6hphs",
        "colab_type": "code",
        "colab": {
          "base_uri": "https://localhost:8080/",
          "height": 195
        },
        "outputId": "3a079843-a40c-4145-9468-61746c5401ed"
      },
      "source": [
        "X.head()"
      ],
      "execution_count": 11,
      "outputs": [
        {
          "output_type": "execute_result",
          "data": {
            "text/html": [
              "<div>\n",
              "<style scoped>\n",
              "    .dataframe tbody tr th:only-of-type {\n",
              "        vertical-align: middle;\n",
              "    }\n",
              "\n",
              "    .dataframe tbody tr th {\n",
              "        vertical-align: top;\n",
              "    }\n",
              "\n",
              "    .dataframe thead th {\n",
              "        text-align: right;\n",
              "    }\n",
              "</style>\n",
              "<table border=\"1\" class=\"dataframe\">\n",
              "  <thead>\n",
              "    <tr style=\"text-align: right;\">\n",
              "      <th></th>\n",
              "      <th>Pclass</th>\n",
              "      <th>SibSp</th>\n",
              "      <th>Parch</th>\n",
              "      <th>Fare</th>\n",
              "      <th>Sex_male</th>\n",
              "      <th>Embarked_Q</th>\n",
              "      <th>Embarked_S</th>\n",
              "    </tr>\n",
              "  </thead>\n",
              "  <tbody>\n",
              "    <tr>\n",
              "      <th>0</th>\n",
              "      <td>3</td>\n",
              "      <td>1</td>\n",
              "      <td>0</td>\n",
              "      <td>7.250</td>\n",
              "      <td>1</td>\n",
              "      <td>0</td>\n",
              "      <td>1</td>\n",
              "    </tr>\n",
              "    <tr>\n",
              "      <th>1</th>\n",
              "      <td>1</td>\n",
              "      <td>1</td>\n",
              "      <td>0</td>\n",
              "      <td>71.283</td>\n",
              "      <td>0</td>\n",
              "      <td>0</td>\n",
              "      <td>0</td>\n",
              "    </tr>\n",
              "    <tr>\n",
              "      <th>2</th>\n",
              "      <td>3</td>\n",
              "      <td>0</td>\n",
              "      <td>0</td>\n",
              "      <td>7.925</td>\n",
              "      <td>0</td>\n",
              "      <td>0</td>\n",
              "      <td>1</td>\n",
              "    </tr>\n",
              "    <tr>\n",
              "      <th>3</th>\n",
              "      <td>1</td>\n",
              "      <td>1</td>\n",
              "      <td>0</td>\n",
              "      <td>53.100</td>\n",
              "      <td>0</td>\n",
              "      <td>0</td>\n",
              "      <td>1</td>\n",
              "    </tr>\n",
              "    <tr>\n",
              "      <th>4</th>\n",
              "      <td>3</td>\n",
              "      <td>0</td>\n",
              "      <td>0</td>\n",
              "      <td>8.050</td>\n",
              "      <td>1</td>\n",
              "      <td>0</td>\n",
              "      <td>1</td>\n",
              "    </tr>\n",
              "  </tbody>\n",
              "</table>\n",
              "</div>"
            ],
            "text/plain": [
              "   Pclass  SibSp  Parch   Fare  Sex_male  Embarked_Q  Embarked_S\n",
              "0       3      1      0  7.250         1           0           1\n",
              "1       1      1      0 71.283         0           0           0\n",
              "2       3      0      0  7.925         0           0           1\n",
              "3       1      1      0 53.100         0           0           1\n",
              "4       3      0      0  8.050         1           0           1"
            ]
          },
          "metadata": {
            "tags": []
          },
          "execution_count": 11
        }
      ]
    },
    {
      "cell_type": "code",
      "metadata": {
        "id": "kVWnEQrch5d1",
        "colab_type": "code",
        "colab": {
          "base_uri": "https://localhost:8080/",
          "height": 252
        },
        "outputId": "718d978a-a10a-4d6d-e6d8-4af50a1749f2"
      },
      "source": [
        "X.info()"
      ],
      "execution_count": 12,
      "outputs": [
        {
          "output_type": "stream",
          "text": [
            "<class 'pandas.core.frame.DataFrame'>\n",
            "RangeIndex: 891 entries, 0 to 890\n",
            "Data columns (total 7 columns):\n",
            " #   Column      Non-Null Count  Dtype  \n",
            "---  ------      --------------  -----  \n",
            " 0   Pclass      891 non-null    int64  \n",
            " 1   SibSp       891 non-null    int64  \n",
            " 2   Parch       891 non-null    int64  \n",
            " 3   Fare        891 non-null    float64\n",
            " 4   Sex_male    891 non-null    uint8  \n",
            " 5   Embarked_Q  891 non-null    uint8  \n",
            " 6   Embarked_S  891 non-null    uint8  \n",
            "dtypes: float64(1), int64(3), uint8(3)\n",
            "memory usage: 30.6 KB\n"
          ],
          "name": "stdout"
        }
      ]
    },
    {
      "cell_type": "code",
      "metadata": {
        "id": "mieM0VdwfyUy",
        "colab_type": "code",
        "colab": {}
      },
      "source": [
        "from sklearn.linear_model import LogisticRegression\n",
        "log_reg = LogisticRegression()"
      ],
      "execution_count": 13,
      "outputs": []
    },
    {
      "cell_type": "code",
      "metadata": {
        "id": "Rr8vxCqXfzzV",
        "colab_type": "code",
        "colab": {}
      },
      "source": [
        "from sklearn.model_selection import train_test_split\n",
        "X_eğitim, X_test, Y_eğitim, Y_test =  train_test_split(X, Y, test_size=0.20, random_state=111)"
      ],
      "execution_count": 14,
      "outputs": []
    },
    {
      "cell_type": "code",
      "metadata": {
        "id": "KJ46B3rBgIvW",
        "colab_type": "code",
        "colab": {
          "base_uri": "https://localhost:8080/",
          "height": 101
        },
        "outputId": "a84ab8ef-0ccb-425c-da37-6a0ab93ed437"
      },
      "source": [
        "log_reg.fit(X_eğitim, Y_eğitim)"
      ],
      "execution_count": 15,
      "outputs": [
        {
          "output_type": "execute_result",
          "data": {
            "text/plain": [
              "LogisticRegression(C=1.0, class_weight=None, dual=False, fit_intercept=True,\n",
              "                   intercept_scaling=1, l1_ratio=None, max_iter=100,\n",
              "                   multi_class='auto', n_jobs=None, penalty='l2',\n",
              "                   random_state=None, solver='lbfgs', tol=0.0001, verbose=0,\n",
              "                   warm_start=False)"
            ]
          },
          "metadata": {
            "tags": []
          },
          "execution_count": 15
        }
      ]
    },
    {
      "cell_type": "code",
      "metadata": {
        "id": "vkKTajOrgMI1",
        "colab_type": "code",
        "colab": {
          "base_uri": "https://localhost:8080/",
          "height": 84
        },
        "outputId": "6422a9ce-1aba-4db6-d9c0-1a99acd67cff"
      },
      "source": [
        "egitim_dogruluk = log_reg.score(X_eğitim, Y_eğitim)\n",
        "test_dogruluk = log_reg.score(X_test, Y_test)\n",
        "print('One-vs-rest', '-'*20, \n",
        "      'Modelin eğitim verisindeki doğruluğu : {:.2f}'.format(egitim_dogruluk), \n",
        "      'Modelin test verisindeki doğruluğu   : {:.2f}'.format(test_dogruluk), sep='\\n')"
      ],
      "execution_count": 16,
      "outputs": [
        {
          "output_type": "stream",
          "text": [
            "One-vs-rest\n",
            "--------------------\n",
            "Modelin eğitim verisindeki doğruluğu : 0.79\n",
            "Modelin test verisindeki doğruluğu   : 0.80\n"
          ],
          "name": "stdout"
        }
      ]
    },
    {
      "cell_type": "code",
      "metadata": {
        "id": "9rD7vP6IkVlV",
        "colab_type": "code",
        "colab": {
          "base_uri": "https://localhost:8080/",
          "height": 84
        },
        "outputId": "858445c8-b291-4024-b3d8-00d70e4a0276"
      },
      "source": [
        "log_reg_mnm = LogisticRegression(multi_class='multinomial', solver='lbfgs')\n",
        "log_reg_mnm.fit(X_eğitim, Y_eğitim)\n",
        "egitim_dogruluk = log_reg_mnm.score(X_eğitim, Y_eğitim)\n",
        "test_dogruluk = log_reg_mnm.score(X_test, Y_test)\n",
        "print('Multinomial (Softmax)', '-'*20, \n",
        "      'Modelin eğitim verisindeki doğruluğu : {:.2f}'.format(egitim_dogruluk), \n",
        "      'Modelin test verisindeki doğruluğu   : {:.2f}'.format(test_dogruluk), sep='\\n')"
      ],
      "execution_count": 17,
      "outputs": [
        {
          "output_type": "stream",
          "text": [
            "Multinomial (Softmax)\n",
            "--------------------\n",
            "Modelin eğitim verisindeki doğruluğu : 0.79\n",
            "Modelin test verisindeki doğruluğu   : 0.80\n"
          ],
          "name": "stdout"
        }
      ]
    },
    {
      "cell_type": "code",
      "metadata": {
        "id": "_kNZIimpGXwZ",
        "colab_type": "code",
        "colab": {}
      },
      "source": [
        "x_mahmut=[[3,1,0,7.250,1,0,1]]"
      ],
      "execution_count": 18,
      "outputs": []
    },
    {
      "cell_type": "code",
      "metadata": {
        "id": "Oj2n2pKdHrAM",
        "colab_type": "code",
        "colab": {}
      },
      "source": [
        "x_ahmet=[[1,\t1,\t0,\t71.283,\t0,\t0,\t0]]"
      ],
      "execution_count": 19,
      "outputs": []
    },
    {
      "cell_type": "code",
      "metadata": {
        "id": "FTnYDLYkGpBN",
        "colab_type": "code",
        "colab": {
          "base_uri": "https://localhost:8080/",
          "height": 34
        },
        "outputId": "7c719a13-1397-4b64-af33-a7747a9759bb"
      },
      "source": [
        "log_reg_mnm.predict(x_ahmet)"
      ],
      "execution_count": 20,
      "outputs": [
        {
          "output_type": "execute_result",
          "data": {
            "text/plain": [
              "array([1])"
            ]
          },
          "metadata": {
            "tags": []
          },
          "execution_count": 20
        }
      ]
    },
    {
      "cell_type": "code",
      "metadata": {
        "id": "1OEDe0CzksUb",
        "colab_type": "code",
        "colab": {
          "base_uri": "https://localhost:8080/",
          "height": 254
        },
        "outputId": "b5efcb4a-168e-4d82-ea8f-972fe484ed72"
      },
      "source": [
        "C_değerleri = [0.001,0.01,0.1,1,10,100, 1000]\n",
        "dogruluk_df = pd.DataFrame(columns = ['C_Değeri','Doğruluk'])\n",
        "\n",
        "dogruluk_değerleri = pd.DataFrame(columns=['C Değeri', 'Eğitim Doğruluğu', 'Test Doğruluğu'])\n",
        "\n",
        "for c in C_değerleri:\n",
        "    \n",
        "    # Apply logistic regression model to training data\n",
        "    lr = LogisticRegression(penalty = 'l2', C = c, random_state = 0)\n",
        "    lr.fit(X_eğitim,Y_eğitim)\n",
        "    dogruluk_değerleri = dogruluk_değerleri.append({'C Değeri': c,\n",
        "                                                    'Eğitim Doğruluğu' : lr.score(X_eğitim, Y_eğitim),\n",
        "                                                    'Test Doğruluğu': lr.score(X_test, Y_test)\n",
        "                                                    }, ignore_index=True)\n",
        "display(dogruluk_değerleri) "
      ],
      "execution_count": 21,
      "outputs": [
        {
          "output_type": "display_data",
          "data": {
            "text/html": [
              "<div>\n",
              "<style scoped>\n",
              "    .dataframe tbody tr th:only-of-type {\n",
              "        vertical-align: middle;\n",
              "    }\n",
              "\n",
              "    .dataframe tbody tr th {\n",
              "        vertical-align: top;\n",
              "    }\n",
              "\n",
              "    .dataframe thead th {\n",
              "        text-align: right;\n",
              "    }\n",
              "</style>\n",
              "<table border=\"1\" class=\"dataframe\">\n",
              "  <thead>\n",
              "    <tr style=\"text-align: right;\">\n",
              "      <th></th>\n",
              "      <th>C Değeri</th>\n",
              "      <th>Eğitim Doğruluğu</th>\n",
              "      <th>Test Doğruluğu</th>\n",
              "    </tr>\n",
              "  </thead>\n",
              "  <tbody>\n",
              "    <tr>\n",
              "      <th>0</th>\n",
              "      <td>0.001</td>\n",
              "      <td>0.678</td>\n",
              "      <td>0.693</td>\n",
              "    </tr>\n",
              "    <tr>\n",
              "      <th>1</th>\n",
              "      <td>0.010</td>\n",
              "      <td>0.708</td>\n",
              "      <td>0.743</td>\n",
              "    </tr>\n",
              "    <tr>\n",
              "      <th>2</th>\n",
              "      <td>0.100</td>\n",
              "      <td>0.795</td>\n",
              "      <td>0.793</td>\n",
              "    </tr>\n",
              "    <tr>\n",
              "      <th>3</th>\n",
              "      <td>1.000</td>\n",
              "      <td>0.795</td>\n",
              "      <td>0.804</td>\n",
              "    </tr>\n",
              "    <tr>\n",
              "      <th>4</th>\n",
              "      <td>10.000</td>\n",
              "      <td>0.795</td>\n",
              "      <td>0.804</td>\n",
              "    </tr>\n",
              "    <tr>\n",
              "      <th>5</th>\n",
              "      <td>100.000</td>\n",
              "      <td>0.795</td>\n",
              "      <td>0.804</td>\n",
              "    </tr>\n",
              "    <tr>\n",
              "      <th>6</th>\n",
              "      <td>1000.000</td>\n",
              "      <td>0.795</td>\n",
              "      <td>0.804</td>\n",
              "    </tr>\n",
              "  </tbody>\n",
              "</table>\n",
              "</div>"
            ],
            "text/plain": [
              "   C Değeri  Eğitim Doğruluğu  Test Doğruluğu\n",
              "0     0.001             0.678           0.693\n",
              "1     0.010             0.708           0.743\n",
              "2     0.100             0.795           0.793\n",
              "3     1.000             0.795           0.804\n",
              "4    10.000             0.795           0.804\n",
              "5   100.000             0.795           0.804\n",
              "6  1000.000             0.795           0.804"
            ]
          },
          "metadata": {
            "tags": []
          }
        }
      ]
    },
    {
      "cell_type": "code",
      "metadata": {
        "id": "lJ3sBxNc9PoX",
        "colab_type": "code",
        "colab": {
          "base_uri": "https://localhost:8080/",
          "height": 254
        },
        "outputId": "2441ba34-a2b8-4a36-814a-58ee024d3ef9"
      },
      "source": [
        "data.corr()"
      ],
      "execution_count": 22,
      "outputs": [
        {
          "output_type": "execute_result",
          "data": {
            "text/html": [
              "<div>\n",
              "<style scoped>\n",
              "    .dataframe tbody tr th:only-of-type {\n",
              "        vertical-align: middle;\n",
              "    }\n",
              "\n",
              "    .dataframe tbody tr th {\n",
              "        vertical-align: top;\n",
              "    }\n",
              "\n",
              "    .dataframe thead th {\n",
              "        text-align: right;\n",
              "    }\n",
              "</style>\n",
              "<table border=\"1\" class=\"dataframe\">\n",
              "  <thead>\n",
              "    <tr style=\"text-align: right;\">\n",
              "      <th></th>\n",
              "      <th>PassengerId</th>\n",
              "      <th>Survived</th>\n",
              "      <th>Pclass</th>\n",
              "      <th>Age</th>\n",
              "      <th>SibSp</th>\n",
              "      <th>Parch</th>\n",
              "      <th>Fare</th>\n",
              "    </tr>\n",
              "  </thead>\n",
              "  <tbody>\n",
              "    <tr>\n",
              "      <th>PassengerId</th>\n",
              "      <td>1.000</td>\n",
              "      <td>-0.005</td>\n",
              "      <td>-0.035</td>\n",
              "      <td>0.037</td>\n",
              "      <td>-0.058</td>\n",
              "      <td>-0.002</td>\n",
              "      <td>0.013</td>\n",
              "    </tr>\n",
              "    <tr>\n",
              "      <th>Survived</th>\n",
              "      <td>-0.005</td>\n",
              "      <td>1.000</td>\n",
              "      <td>-0.338</td>\n",
              "      <td>-0.077</td>\n",
              "      <td>-0.035</td>\n",
              "      <td>0.082</td>\n",
              "      <td>0.257</td>\n",
              "    </tr>\n",
              "    <tr>\n",
              "      <th>Pclass</th>\n",
              "      <td>-0.035</td>\n",
              "      <td>-0.338</td>\n",
              "      <td>1.000</td>\n",
              "      <td>-0.369</td>\n",
              "      <td>0.083</td>\n",
              "      <td>0.018</td>\n",
              "      <td>-0.549</td>\n",
              "    </tr>\n",
              "    <tr>\n",
              "      <th>Age</th>\n",
              "      <td>0.037</td>\n",
              "      <td>-0.077</td>\n",
              "      <td>-0.369</td>\n",
              "      <td>1.000</td>\n",
              "      <td>-0.308</td>\n",
              "      <td>-0.189</td>\n",
              "      <td>0.096</td>\n",
              "    </tr>\n",
              "    <tr>\n",
              "      <th>SibSp</th>\n",
              "      <td>-0.058</td>\n",
              "      <td>-0.035</td>\n",
              "      <td>0.083</td>\n",
              "      <td>-0.308</td>\n",
              "      <td>1.000</td>\n",
              "      <td>0.415</td>\n",
              "      <td>0.160</td>\n",
              "    </tr>\n",
              "    <tr>\n",
              "      <th>Parch</th>\n",
              "      <td>-0.002</td>\n",
              "      <td>0.082</td>\n",
              "      <td>0.018</td>\n",
              "      <td>-0.189</td>\n",
              "      <td>0.415</td>\n",
              "      <td>1.000</td>\n",
              "      <td>0.216</td>\n",
              "    </tr>\n",
              "    <tr>\n",
              "      <th>Fare</th>\n",
              "      <td>0.013</td>\n",
              "      <td>0.257</td>\n",
              "      <td>-0.549</td>\n",
              "      <td>0.096</td>\n",
              "      <td>0.160</td>\n",
              "      <td>0.216</td>\n",
              "      <td>1.000</td>\n",
              "    </tr>\n",
              "  </tbody>\n",
              "</table>\n",
              "</div>"
            ],
            "text/plain": [
              "             PassengerId  Survived  Pclass    Age  SibSp  Parch   Fare\n",
              "PassengerId        1.000    -0.005  -0.035  0.037 -0.058 -0.002  0.013\n",
              "Survived          -0.005     1.000  -0.338 -0.077 -0.035  0.082  0.257\n",
              "Pclass            -0.035    -0.338   1.000 -0.369  0.083  0.018 -0.549\n",
              "Age                0.037    -0.077  -0.369  1.000 -0.308 -0.189  0.096\n",
              "SibSp             -0.058    -0.035   0.083 -0.308  1.000  0.415  0.160\n",
              "Parch             -0.002     0.082   0.018 -0.189  0.415  1.000  0.216\n",
              "Fare               0.013     0.257  -0.549  0.096  0.160  0.216  1.000"
            ]
          },
          "metadata": {
            "tags": []
          },
          "execution_count": 22
        }
      ]
    },
    {
      "cell_type": "code",
      "metadata": {
        "id": "oNs7z1RG96mU",
        "colab_type": "code",
        "colab": {}
      },
      "source": [
        "X=data[['Pclass','Fare']]\n",
        "Y=data['Survived']"
      ],
      "execution_count": 23,
      "outputs": []
    },
    {
      "cell_type": "code",
      "metadata": {
        "id": "sQyomw0I-Z1-",
        "colab_type": "code",
        "colab": {}
      },
      "source": [
        "X_eğitim, X_test, Y_eğitim, Y_test =  train_test_split(X, Y, test_size=0.20, random_state=111)"
      ],
      "execution_count": 24,
      "outputs": []
    },
    {
      "cell_type": "code",
      "metadata": {
        "id": "eVNH5-AG-bw4",
        "colab_type": "code",
        "colab": {
          "base_uri": "https://localhost:8080/",
          "height": 101
        },
        "outputId": "26000395-6e6e-4f6e-e578-548ca6123dbd"
      },
      "source": [
        "log_reg.fit(X_eğitim, Y_eğitim)"
      ],
      "execution_count": 25,
      "outputs": [
        {
          "output_type": "execute_result",
          "data": {
            "text/plain": [
              "LogisticRegression(C=1.0, class_weight=None, dual=False, fit_intercept=True,\n",
              "                   intercept_scaling=1, l1_ratio=None, max_iter=100,\n",
              "                   multi_class='auto', n_jobs=None, penalty='l2',\n",
              "                   random_state=None, solver='lbfgs', tol=0.0001, verbose=0,\n",
              "                   warm_start=False)"
            ]
          },
          "metadata": {
            "tags": []
          },
          "execution_count": 25
        }
      ]
    },
    {
      "cell_type": "code",
      "metadata": {
        "id": "z_YTc7WQ-d9L",
        "colab_type": "code",
        "colab": {
          "base_uri": "https://localhost:8080/",
          "height": 84
        },
        "outputId": "56f8c3f6-a6cb-4cfa-b8b7-521e87e4f8f3"
      },
      "source": [
        "egitim_dogruluk = log_reg.score(X_eğitim, Y_eğitim)\n",
        "test_dogruluk = log_reg.score(X_test, Y_test)\n",
        "print('One-vs-rest', '-'*20, \n",
        "      'Modelin eğitim verisindeki doğruluğu : {:.2f}'.format(egitim_dogruluk), \n",
        "      'Modelin test verisindeki doğruluğu   : {:.2f}'.format(test_dogruluk), sep='\\n')"
      ],
      "execution_count": 26,
      "outputs": [
        {
          "output_type": "stream",
          "text": [
            "One-vs-rest\n",
            "--------------------\n",
            "Modelin eğitim verisindeki doğruluğu : 0.68\n",
            "Modelin test verisindeki doğruluğu   : 0.69\n"
          ],
          "name": "stdout"
        }
      ]
    },
    {
      "cell_type": "code",
      "metadata": {
        "id": "MPONICu2-fiA",
        "colab_type": "code",
        "colab": {
          "base_uri": "https://localhost:8080/",
          "height": 84
        },
        "outputId": "d53130c8-6910-4b19-e286-4fb1ae766e33"
      },
      "source": [
        "log_reg_mnm = LogisticRegression(multi_class='multinomial', solver='lbfgs')\n",
        "log_reg_mnm.fit(X_eğitim, Y_eğitim)\n",
        "egitim_dogruluk = log_reg_mnm.score(X_eğitim, Y_eğitim)\n",
        "test_dogruluk = log_reg_mnm.score(X_test, Y_test)\n",
        "print('Multinomial (Softmax)', '-'*20, \n",
        "      'Modelin eğitim verisindeki doğruluğu : {:.2f}'.format(egitim_dogruluk), \n",
        "      'Modelin test verisindeki doğruluğu   : {:.2f}'.format(test_dogruluk), sep='\\n')"
      ],
      "execution_count": 27,
      "outputs": [
        {
          "output_type": "stream",
          "text": [
            "Multinomial (Softmax)\n",
            "--------------------\n",
            "Modelin eğitim verisindeki doğruluğu : 0.68\n",
            "Modelin test verisindeki doğruluğu   : 0.69\n"
          ],
          "name": "stdout"
        }
      ]
    },
    {
      "cell_type": "code",
      "metadata": {
        "id": "nBKnmnMUAUJH",
        "colab_type": "code",
        "colab": {}
      },
      "source": [
        "from sklearn.model_selection import TimeSeriesSplit\n",
        "from sklearn.naive_bayes import GaussianNB\n",
        "\n",
        "from yellowbrick.classifier import ClassificationReport\n",
        "from yellowbrick.datasets import load_occupancy"
      ],
      "execution_count": 28,
      "outputs": []
    },
    {
      "cell_type": "code",
      "metadata": {
        "id": "tMQm46bIA9wF",
        "colab_type": "code",
        "colab": {
          "base_uri": "https://localhost:8080/",
          "height": 118
        },
        "outputId": "220982de-89ff-4cc0-b269-a7c1906f5d2d"
      },
      "source": [
        "X=data[['Pclass','Sex','SibSp','Parch','Fare','Embarked']]\n",
        "X.head()\n",
        "Y=data['Survived']\n",
        "Y.head()"
      ],
      "execution_count": 29,
      "outputs": [
        {
          "output_type": "execute_result",
          "data": {
            "text/plain": [
              "0    0\n",
              "1    1\n",
              "2    1\n",
              "3    1\n",
              "4    0\n",
              "Name: Survived, dtype: int64"
            ]
          },
          "metadata": {
            "tags": []
          },
          "execution_count": 29
        }
      ]
    },
    {
      "cell_type": "code",
      "metadata": {
        "id": "60vAt1XUBCh_",
        "colab_type": "code",
        "colab": {
          "base_uri": "https://localhost:8080/",
          "height": 195
        },
        "outputId": "94e84eef-8e9a-4d65-f145-b5a26bca83cc"
      },
      "source": [
        "X=pd.get_dummies(X,prefix_sep='_',drop_first=True)\n",
        "X.head()"
      ],
      "execution_count": 30,
      "outputs": [
        {
          "output_type": "execute_result",
          "data": {
            "text/html": [
              "<div>\n",
              "<style scoped>\n",
              "    .dataframe tbody tr th:only-of-type {\n",
              "        vertical-align: middle;\n",
              "    }\n",
              "\n",
              "    .dataframe tbody tr th {\n",
              "        vertical-align: top;\n",
              "    }\n",
              "\n",
              "    .dataframe thead th {\n",
              "        text-align: right;\n",
              "    }\n",
              "</style>\n",
              "<table border=\"1\" class=\"dataframe\">\n",
              "  <thead>\n",
              "    <tr style=\"text-align: right;\">\n",
              "      <th></th>\n",
              "      <th>Pclass</th>\n",
              "      <th>SibSp</th>\n",
              "      <th>Parch</th>\n",
              "      <th>Fare</th>\n",
              "      <th>Sex_male</th>\n",
              "      <th>Embarked_Q</th>\n",
              "      <th>Embarked_S</th>\n",
              "    </tr>\n",
              "  </thead>\n",
              "  <tbody>\n",
              "    <tr>\n",
              "      <th>0</th>\n",
              "      <td>3</td>\n",
              "      <td>1</td>\n",
              "      <td>0</td>\n",
              "      <td>7.250</td>\n",
              "      <td>1</td>\n",
              "      <td>0</td>\n",
              "      <td>1</td>\n",
              "    </tr>\n",
              "    <tr>\n",
              "      <th>1</th>\n",
              "      <td>1</td>\n",
              "      <td>1</td>\n",
              "      <td>0</td>\n",
              "      <td>71.283</td>\n",
              "      <td>0</td>\n",
              "      <td>0</td>\n",
              "      <td>0</td>\n",
              "    </tr>\n",
              "    <tr>\n",
              "      <th>2</th>\n",
              "      <td>3</td>\n",
              "      <td>0</td>\n",
              "      <td>0</td>\n",
              "      <td>7.925</td>\n",
              "      <td>0</td>\n",
              "      <td>0</td>\n",
              "      <td>1</td>\n",
              "    </tr>\n",
              "    <tr>\n",
              "      <th>3</th>\n",
              "      <td>1</td>\n",
              "      <td>1</td>\n",
              "      <td>0</td>\n",
              "      <td>53.100</td>\n",
              "      <td>0</td>\n",
              "      <td>0</td>\n",
              "      <td>1</td>\n",
              "    </tr>\n",
              "    <tr>\n",
              "      <th>4</th>\n",
              "      <td>3</td>\n",
              "      <td>0</td>\n",
              "      <td>0</td>\n",
              "      <td>8.050</td>\n",
              "      <td>1</td>\n",
              "      <td>0</td>\n",
              "      <td>1</td>\n",
              "    </tr>\n",
              "  </tbody>\n",
              "</table>\n",
              "</div>"
            ],
            "text/plain": [
              "   Pclass  SibSp  Parch   Fare  Sex_male  Embarked_Q  Embarked_S\n",
              "0       3      1      0  7.250         1           0           1\n",
              "1       1      1      0 71.283         0           0           0\n",
              "2       3      0      0  7.925         0           0           1\n",
              "3       1      1      0 53.100         0           0           1\n",
              "4       3      0      0  8.050         1           0           1"
            ]
          },
          "metadata": {
            "tags": []
          },
          "execution_count": 30
        }
      ]
    },
    {
      "cell_type": "code",
      "metadata": {
        "id": "bdYtp4unAa2l",
        "colab_type": "code",
        "colab": {}
      },
      "source": [
        "# Specify the target classes\n",
        "classes = [\"Survived\", \"Dead\"]"
      ],
      "execution_count": 31,
      "outputs": []
    },
    {
      "cell_type": "code",
      "metadata": {
        "id": "ey6ApOrbAokT",
        "colab_type": "code",
        "colab": {}
      },
      "source": [
        "# Instantiate the classification model and visualizer\n",
        "model = LogisticRegression()\n",
        "visualizer = ClassificationReport(model, classes=classes, support=True)"
      ],
      "execution_count": 32,
      "outputs": []
    },
    {
      "cell_type": "code",
      "metadata": {
        "id": "8RZwza53Ap-X",
        "colab_type": "code",
        "colab": {
          "base_uri": "https://localhost:8080/",
          "height": 401
        },
        "outputId": "d218b595-bdd4-4f11-80bf-61a357b2aa50"
      },
      "source": [
        "visualizer.fit(X_eğitim, Y_eğitim)        # Fit the visualizer and the model\n",
        "visualizer.score(X_test, Y_test)        # Evaluate the model on the test data\n",
        "visualizer.poof()                     # Finalize and show the figure"
      ],
      "execution_count": 33,
      "outputs": [
        {
          "output_type": "display_data",
          "data": {
            "image/png": "[encoded data removed]",
            "text/plain": [
              "<Figure size 576x396 with 2 Axes>"
            ]
          },
          "metadata": {
            "tags": []
          }
        }
      ]
    },
    {
      "cell_type": "code",
      "metadata": {
        "id": "4RffHaIiEm7p",
        "colab_type": "code",
        "colab": {
          "base_uri": "https://localhost:8080/",
          "height": 118
        },
        "outputId": "701c6bdf-03a8-4845-c43c-37e551dc22fb"
      },
      "source": [
        "X=data[['Pclass','Sex','SibSp','Parch','Fare','Embarked']]\n",
        "X.head()\n",
        "Y=data['Survived']\n",
        "Y.head()"
      ],
      "execution_count": 34,
      "outputs": [
        {
          "output_type": "execute_result",
          "data": {
            "text/plain": [
              "0    0\n",
              "1    1\n",
              "2    1\n",
              "3    1\n",
              "4    0\n",
              "Name: Survived, dtype: int64"
            ]
          },
          "metadata": {
            "tags": []
          },
          "execution_count": 34
        }
      ]
    },
    {
      "cell_type": "code",
      "metadata": {
        "id": "z-Jilp1cEpCm",
        "colab_type": "code",
        "colab": {
          "base_uri": "https://localhost:8080/",
          "height": 195
        },
        "outputId": "749d93c4-1af2-4e1e-c2f3-506e467e054b"
      },
      "source": [
        "X=pd.get_dummies(X,prefix_sep='_',drop_first=True)\n",
        "X.head()"
      ],
      "execution_count": 35,
      "outputs": [
        {
          "output_type": "execute_result",
          "data": {
            "text/html": [
              "<div>\n",
              "<style scoped>\n",
              "    .dataframe tbody tr th:only-of-type {\n",
              "        vertical-align: middle;\n",
              "    }\n",
              "\n",
              "    .dataframe tbody tr th {\n",
              "        vertical-align: top;\n",
              "    }\n",
              "\n",
              "    .dataframe thead th {\n",
              "        text-align: right;\n",
              "    }\n",
              "</style>\n",
              "<table border=\"1\" class=\"dataframe\">\n",
              "  <thead>\n",
              "    <tr style=\"text-align: right;\">\n",
              "      <th></th>\n",
              "      <th>Pclass</th>\n",
              "      <th>SibSp</th>\n",
              "      <th>Parch</th>\n",
              "      <th>Fare</th>\n",
              "      <th>Sex_male</th>\n",
              "      <th>Embarked_Q</th>\n",
              "      <th>Embarked_S</th>\n",
              "    </tr>\n",
              "  </thead>\n",
              "  <tbody>\n",
              "    <tr>\n",
              "      <th>0</th>\n",
              "      <td>3</td>\n",
              "      <td>1</td>\n",
              "      <td>0</td>\n",
              "      <td>7.250</td>\n",
              "      <td>1</td>\n",
              "      <td>0</td>\n",
              "      <td>1</td>\n",
              "    </tr>\n",
              "    <tr>\n",
              "      <th>1</th>\n",
              "      <td>1</td>\n",
              "      <td>1</td>\n",
              "      <td>0</td>\n",
              "      <td>71.283</td>\n",
              "      <td>0</td>\n",
              "      <td>0</td>\n",
              "      <td>0</td>\n",
              "    </tr>\n",
              "    <tr>\n",
              "      <th>2</th>\n",
              "      <td>3</td>\n",
              "      <td>0</td>\n",
              "      <td>0</td>\n",
              "      <td>7.925</td>\n",
              "      <td>0</td>\n",
              "      <td>0</td>\n",
              "      <td>1</td>\n",
              "    </tr>\n",
              "    <tr>\n",
              "      <th>3</th>\n",
              "      <td>1</td>\n",
              "      <td>1</td>\n",
              "      <td>0</td>\n",
              "      <td>53.100</td>\n",
              "      <td>0</td>\n",
              "      <td>0</td>\n",
              "      <td>1</td>\n",
              "    </tr>\n",
              "    <tr>\n",
              "      <th>4</th>\n",
              "      <td>3</td>\n",
              "      <td>0</td>\n",
              "      <td>0</td>\n",
              "      <td>8.050</td>\n",
              "      <td>1</td>\n",
              "      <td>0</td>\n",
              "      <td>1</td>\n",
              "    </tr>\n",
              "  </tbody>\n",
              "</table>\n",
              "</div>"
            ],
            "text/plain": [
              "   Pclass  SibSp  Parch   Fare  Sex_male  Embarked_Q  Embarked_S\n",
              "0       3      1      0  7.250         1           0           1\n",
              "1       1      1      0 71.283         0           0           0\n",
              "2       3      0      0  7.925         0           0           1\n",
              "3       1      1      0 53.100         0           0           1\n",
              "4       3      0      0  8.050         1           0           1"
            ]
          },
          "metadata": {
            "tags": []
          },
          "execution_count": 35
        }
      ]
    },
    {
      "cell_type": "code",
      "metadata": {
        "id": "FrG0xDCVEegK",
        "colab_type": "code",
        "colab": {}
      },
      "source": [
        "from sklearn.model_selection import train_test_split\n",
        "X_eğitim, X_test, Y_eğitim, Y_test =  train_test_split(X, Y, test_size=0.20, random_state=111)"
      ],
      "execution_count": 36,
      "outputs": []
    },
    {
      "cell_type": "code",
      "metadata": {
        "id": "1VAQwaW5DuzQ",
        "colab_type": "code",
        "colab": {}
      },
      "source": [
        "#Yeni düzene geçiyorum\n",
        "\n",
        "yasam_tahmin_modeli = LogisticRegression()\n",
        "yasam_tahmin_modeli.fit(X_eğitim, Y_eğitim)\n",
        "\n",
        "tahmin_eğitim = yasam_tahmin_modeli.predict(X_eğitim)\n",
        "tahmin_test = yasam_tahmin_modeli.predict(X_test)"
      ],
      "execution_count": 37,
      "outputs": []
    },
    {
      "cell_type": "code",
      "metadata": {
        "id": "aCjEl2VlE-g4",
        "colab_type": "code",
        "colab": {}
      },
      "source": [
        "tahmin_test_ihtimal = yasam_tahmin_modeli.predict_proba(X_test)[:,1]"
      ],
      "execution_count": 38,
      "outputs": []
    },
    {
      "cell_type": "code",
      "metadata": {
        "id": "CdV1e8wAFDEi",
        "colab_type": "code",
        "colab": {}
      },
      "source": [
        "from sklearn.metrics import confusion_matrix\n",
        "hata_matrisi_eğitim = confusion_matrix(Y_eğitim, tahmin_eğitim)\n",
        "hata_matrisi_test = confusion_matrix(Y_test, tahmin_test)"
      ],
      "execution_count": 39,
      "outputs": []
    },
    {
      "cell_type": "code",
      "metadata": {
        "id": "v-Henfw5FKO1",
        "colab_type": "code",
        "colab": {
          "base_uri": "https://localhost:8080/",
          "height": 151
        },
        "outputId": "795a5f40-5e7b-47c7-be01-420b7c85d719"
      },
      "source": [
        "print(\"Hata Matrisi (Eğitim verileri)\", \"-\"*30, hata_matrisi_eğitim, sep=\"\\n\")\n",
        "print(\"Hata Matrisi (Test verileri)\", \"-\"*30, hata_matrisi_test, sep=\"\\n\")"
      ],
      "execution_count": 40,
      "outputs": [
        {
          "output_type": "stream",
          "text": [
            "Hata Matrisi (Eğitim verileri)\n",
            "------------------------------\n",
            "[[377  59]\n",
            " [ 87 189]]\n",
            "Hata Matrisi (Test verileri)\n",
            "------------------------------\n",
            "[[101  12]\n",
            " [ 23  43]]\n"
          ],
          "name": "stdout"
        }
      ]
    },
    {
      "cell_type": "code",
      "metadata": {
        "id": "sQ4NBTp_FO9H",
        "colab_type": "code",
        "colab": {
          "base_uri": "https://localhost:8080/",
          "height": 84
        },
        "outputId": "7684aa17-0998-4a32-faf2-ecd429cae644"
      },
      "source": [
        "TN = hata_matrisi_test[0][0]\n",
        "TP = hata_matrisi_test[1][1]\n",
        "FP = hata_matrisi_test[0][1]\n",
        "FN = hata_matrisi_test[1][0]\n",
        "\n",
        "print(\"Doğru negatif sayısı   :\", TN)\n",
        "print(\"Doğru pozitif sayısı   :\", TP)\n",
        "print(\"Yanlış pozitif sayısı  :\", FP)\n",
        "print(\"Yanlış negatif sayısı  :\", FN)"
      ],
      "execution_count": 41,
      "outputs": [
        {
          "output_type": "stream",
          "text": [
            "Doğru negatif sayısı   : 101\n",
            "Doğru pozitif sayısı   : 43\n",
            "Yanlış pozitif sayısı  : 12\n",
            "Yanlış negatif sayısı  : 23\n"
          ],
          "name": "stdout"
        }
      ]
    },
    {
      "cell_type": "code",
      "metadata": {
        "id": "dT_SDrkpFTPZ",
        "colab_type": "code",
        "colab": {
          "base_uri": "https://localhost:8080/",
          "height": 67
        },
        "outputId": "44549c31-3177-42b1-b1bc-df24039d50c0"
      },
      "source": [
        "from sklearn.metrics import accuracy_score\n",
        "\n",
        "print(\"Modelden alınan doğruluk değeri : \",  yasam_tahmin_modeli.score(X_test, Y_test))\n",
        "print(\"Hesaplanan doğruluk değeri      : \",  (TN + TP)/(FN + FP + TN + TP))\n",
        "print(\"accuracy_score() değeri         : \",  accuracy_score(Y_test, tahmin_test))"
      ],
      "execution_count": 42,
      "outputs": [
        {
          "output_type": "stream",
          "text": [
            "Modelden alınan doğruluk değeri :  0.8044692737430168\n",
            "Hesaplanan doğruluk değeri      :  0.8044692737430168\n",
            "accuracy_score() değeri         :  0.8044692737430168\n"
          ],
          "name": "stdout"
        }
      ]
    },
    {
      "cell_type": "code",
      "metadata": {
        "id": "Z0Hnp4O3Fe5u",
        "colab_type": "code",
        "colab": {
          "base_uri": "https://localhost:8080/",
          "height": 50
        },
        "outputId": "f048edea-9a27-450d-9c9a-0b1fb834b392"
      },
      "source": [
        "from sklearn.metrics import precision_score\n",
        "\n",
        "print(\"Hesaplanan doğruluk değeri      : \",  (TP)/(FP + TP))\n",
        "print(\"precision_score() değeri        : \",  precision_score(Y_test, tahmin_test))"
      ],
      "execution_count": 43,
      "outputs": [
        {
          "output_type": "stream",
          "text": [
            "Hesaplanan doğruluk değeri      :  0.7818181818181819\n",
            "precision_score() değeri        :  0.7818181818181819\n"
          ],
          "name": "stdout"
        }
      ]
    },
    {
      "cell_type": "code",
      "metadata": {
        "id": "2zSNmpedFjhR",
        "colab_type": "code",
        "colab": {
          "base_uri": "https://localhost:8080/",
          "height": 50
        },
        "outputId": "d5130b5a-54c5-4c26-d4f1-a2c7a5db8cf4"
      },
      "source": [
        "from sklearn.metrics import recall_score\n",
        "\n",
        "print(\"Hesaplanan doğruluk değeri   : \",  (TP)/(TP + FN))\n",
        "print(\"recall_score() değeri        : \",  recall_score(Y_test, tahmin_test))"
      ],
      "execution_count": 44,
      "outputs": [
        {
          "output_type": "stream",
          "text": [
            "Hesaplanan doğruluk değeri   :  0.6515151515151515\n",
            "recall_score() değeri        :  0.6515151515151515\n"
          ],
          "name": "stdout"
        }
      ]
    },
    {
      "cell_type": "code",
      "metadata": {
        "id": "kKBkuuDrFnvU",
        "colab_type": "code",
        "colab": {
          "base_uri": "https://localhost:8080/",
          "height": 34
        },
        "outputId": "7121a8b9-85e1-49be-b908-fddfac2a5881"
      },
      "source": [
        "print(\"Hesaplanan özgünlük değeri   : \",  (TN)/(TN + FP))"
      ],
      "execution_count": 45,
      "outputs": [
        {
          "output_type": "stream",
          "text": [
            "Hesaplanan özgünlük değeri   :  0.8938053097345132\n"
          ],
          "name": "stdout"
        }
      ]
    },
    {
      "cell_type": "code",
      "metadata": {
        "id": "5lumdTIfFrNB",
        "colab_type": "code",
        "colab": {
          "base_uri": "https://localhost:8080/",
          "height": 50
        },
        "outputId": "63e6a0fd-3a8c-4dc0-f133-645e2973e93e"
      },
      "source": [
        "from sklearn.metrics import f1_score\n",
        "\n",
        "hassasiyet_degeri = precision_score(Y_test, tahmin_test)\n",
        "duyarlılık_değeri = recall_score(Y_test, tahmin_test)\n",
        "\n",
        "\n",
        "print(\"Hesaplanan f1 skoru   : \",  2*((hassasiyet_degeri*duyarlılık_değeri)/(hassasiyet_degeri + duyarlılık_değeri)))\n",
        "print(\"f1_score() değeri     : \",  f1_score(Y_test, tahmin_test))"
      ],
      "execution_count": 46,
      "outputs": [
        {
          "output_type": "stream",
          "text": [
            "Hesaplanan f1 skoru   :  0.7107438016528926\n",
            "f1_score() değeri     :  0.7107438016528926\n"
          ],
          "name": "stdout"
        }
      ]
    },
    {
      "cell_type": "code",
      "metadata": {
        "id": "3BAQRS6VF27v",
        "colab_type": "code",
        "colab": {
          "base_uri": "https://localhost:8080/",
          "height": 302
        },
        "outputId": "965f86c0-0ace-489b-d109-daa4a3105a58"
      },
      "source": [
        "from sklearn.metrics import classification_report, precision_recall_fscore_support\n",
        "\n",
        "print(classification_report(Y_test,tahmin_test) )\n",
        "\n",
        "print(\"f1_score() değeri        : {:.2f}\".format(f1_score(Y_test, tahmin_test)))\n",
        "print(\"recall_score() değeri    : {:.2f}\".format(recall_score(Y_test, tahmin_test)))\n",
        "print(\"precision_score() değeri : {:.2f}\".format(precision_score(Y_test, tahmin_test)))\n",
        "print('\\n')\n",
        "\n",
        "metrikler =  precision_recall_fscore_support(Y_test, tahmin_test)\n",
        "print(\"Hassasiyet :\" , metrikler[0]) \n",
        "print(\"Duyarlılık :\" , metrikler[1]) \n",
        "print(\"F1 Skoru   :\" , metrikler[2]) "
      ],
      "execution_count": 47,
      "outputs": [
        {
          "output_type": "stream",
          "text": [
            "              precision    recall  f1-score   support\n",
            "\n",
            "           0       0.81      0.89      0.85       113\n",
            "           1       0.78      0.65      0.71        66\n",
            "\n",
            "    accuracy                           0.80       179\n",
            "   macro avg       0.80      0.77      0.78       179\n",
            "weighted avg       0.80      0.80      0.80       179\n",
            "\n",
            "f1_score() değeri        : 0.71\n",
            "recall_score() değeri    : 0.65\n",
            "precision_score() değeri : 0.78\n",
            "\n",
            "\n",
            "Hassasiyet : [0.81451613 0.78181818]\n",
            "Duyarlılık : [0.89380531 0.65151515]\n",
            "F1 Skoru   : [0.85232068 0.7107438 ]\n"
          ],
          "name": "stdout"
        }
      ]
    },
    {
      "cell_type": "code",
      "metadata": {
        "id": "mzDeEpQ1GHES",
        "colab_type": "code",
        "colab": {
          "base_uri": "https://localhost:8080/",
          "height": 376
        },
        "outputId": "3187788e-be2b-447a-8000-b181c5fe22f6"
      },
      "source": [
        "from sklearn.metrics import roc_curve, roc_auc_score\n",
        "\n",
        "fpr, tpr, thresholds  = roc_curve(Y_test, tahmin_test_ihtimal)\n",
        "\n",
        "import matplotlib.pyplot as plt\n",
        "# Plot ROC curve\n",
        "plt.plot([0, 1], [0, 1], 'k--')\n",
        "plt.plot(fpr, tpr)\n",
        "plt.xlabel('False Positive Rate')\n",
        "plt.ylabel('True Positive Rate')\n",
        "plt.title('ROC Curve')\n",
        "plt.show()"
      ],
      "execution_count": 48,
      "outputs": [
        {
          "output_type": "display_data",
          "data": {
            "image/png": "[encoded data removed]",
            "text/plain": [
              "<Figure size 576x396 with 1 Axes>"
            ]
          },
          "metadata": {
            "tags": []
          }
        }
      ]
    },
    {
      "cell_type": "code",
      "metadata": {
        "id": "ZbB-TJpwGMZP",
        "colab_type": "code",
        "colab": {
          "base_uri": "https://localhost:8080/",
          "height": 34
        },
        "outputId": "bf8eb186-6204-40b7-b049-bf9d8440d6df"
      },
      "source": [
        "print('AUC Değeri : ', roc_auc_score(Y_test, tahmin_test_ihtimal))"
      ],
      "execution_count": 49,
      "outputs": [
        {
          "output_type": "stream",
          "text": [
            "AUC Değeri :  0.8125502815768302\n"
          ],
          "name": "stdout"
        }
      ]
    },
    {
      "cell_type": "code",
      "metadata": {
        "id": "cvpSOWlTGQVO",
        "colab_type": "code",
        "colab": {
          "base_uri": "https://localhost:8080/",
          "height": 347
        },
        "outputId": "df3b37fd-4f22-45c4-e76f-77f25b3ba625"
      },
      "source": [
        "from sklearn.metrics import precision_recall_curve\n",
        "hassasiyet, duyarlılık, _ = precision_recall_curve(Y_test, tahmin_test_ihtimal)\n",
        "\n",
        "plt.plot(duyarlılık, hassasiyet)\n",
        "plt.show()"
      ],
      "execution_count": 50,
      "outputs": [
        {
          "output_type": "display_data",
          "data": {
            "image/png": "[encoded data removed]",
            "text/plain": [
              "<Figure size 576x396 with 1 Axes>"
            ]
          },
          "metadata": {
            "tags": []
          }
        }
      ]
    },
    {
      "cell_type": "code",
      "metadata": {
        "id": "oNKIVSy2GVAb",
        "colab_type": "code",
        "colab": {
          "base_uri": "https://localhost:8080/",
          "height": 50
        },
        "outputId": "4d4608fb-f48b-44cc-9b69-df1c5144d733"
      },
      "source": [
        "from sklearn.metrics import log_loss\n",
        "\n",
        "print(\"Logartimik Kayıp (log-loss) : \" , log_loss(Y_test, tahmin_test_ihtimal))\n",
        "print(\"Hata Oranı                  : \" , 1- accuracy_score(Y_test, tahmin_test))"
      ],
      "execution_count": 51,
      "outputs": [
        {
          "output_type": "stream",
          "text": [
            "Logartimik Kayıp (log-loss) :  0.46642932358474937\n",
            "Hata Oranı                  :  0.1955307262569832\n"
          ],
          "name": "stdout"
        }
      ]
    },
    {
      "cell_type": "markdown",
      "metadata": {
        "id": "sqIEbzwh9e72",
        "colab_type": "text"
      },
      "source": [
        "Burdan itibaren 5.Ödeve Geçiyoruz\n"
      ]
    },
    {
      "cell_type": "code",
      "metadata": {
        "id": "jnaC4RTY9jb5",
        "colab_type": "code",
        "colab": {
          "base_uri": "https://localhost:8080/",
          "height": 50
        },
        "outputId": "ed25f553-05e7-4ffd-c117-e950251573c0"
      },
      "source": [
        "print(len(X), len(Y))\n",
        "print(\"Veri kümesinde {} satır  veri bulunmakta...\".format(len(X)))"
      ],
      "execution_count": 52,
      "outputs": [
        {
          "output_type": "stream",
          "text": [
            "891 891\n",
            "Veri kümesinde 891 satır  veri bulunmakta...\n"
          ],
          "name": "stdout"
        }
      ]
    },
    {
      "cell_type": "code",
      "metadata": {
        "id": "cBRk5H-t-Cvn",
        "colab_type": "code",
        "colab": {
          "base_uri": "https://localhost:8080/",
          "height": 84
        },
        "outputId": "e85ff472-06b9-4c5a-9843-e247b2ccf5df"
      },
      "source": [
        "import seaborn as sns\n",
        "import matplotlib.pyplot as plt\n",
        "plt.style.use('fivethirtyeight')\n",
        "\n",
        "X_egitim, X_test, Y_egitim, Y_test = train_test_split(X, Y, test_size=0.2)\n",
        "print(\"Eğitim veri kümesindeki satır sayısı :  {} \".format(len(X_egitim)))\n",
        "print(\"Eğitim veri kümesindeki hedef sayısı :  {} \".format(len(Y_egitim)))\n",
        "print(\"Test veri kümesindeki satır sayısı :  {} \".format(len(X_test)))\n",
        "print(\"Test veri kümesindeki hedef sayısı :  {} \".format(len(Y_test)))"
      ],
      "execution_count": 53,
      "outputs": [
        {
          "output_type": "stream",
          "text": [
            "Eğitim veri kümesindeki satır sayısı :  712 \n",
            "Eğitim veri kümesindeki hedef sayısı :  712 \n",
            "Test veri kümesindeki satır sayısı :  179 \n",
            "Test veri kümesindeki hedef sayısı :  179 \n"
          ],
          "name": "stdout"
        }
      ]
    },
    {
      "cell_type": "code",
      "metadata": {
        "id": "vKz879xV-S7u",
        "colab_type": "code",
        "colab": {
          "base_uri": "https://localhost:8080/",
          "height": 430
        },
        "outputId": "24c63c61-20f9-4471-99d6-ede318d01179"
      },
      "source": [
        "plt.figure(figsize=(15,5))\n",
        "plt.subplot(131)\n",
        "sns.countplot(Y)\n",
        "plt.title(\"Tüm veriler\")\n",
        "plt.subplot(132)\n",
        "sns.countplot(Y_egitim)\n",
        "plt.title(\"Eğitim veri kümesi\")\n",
        "plt.subplot(133)\n",
        "sns.countplot(Y_test)\n",
        "plt.title(\"Test kümesi\")\n",
        "plt.show()\n",
        "print(\"Tüm veri kümesi '0' yüzdesi : %{:.0f} \".format(len(Y[Y==0])/len(Y)*100))\n",
        "print(\"Test verisi '0' yüzdesi     : %{:.0f} \".format(len(Y_test[Y_test==0])/len(Y_test)*100))\n",
        "print(\"Eğitim verisi '0' yüzdesi   : %{:.0f} \".format(len(Y_egitim[Y_egitim==0])/len(Y_egitim)*100))"
      ],
      "execution_count": 54,
      "outputs": [
        {
          "output_type": "display_data",
          "data": {
            "image/png": "[encoded data removed]",
            "text/plain": [
              "<Figure size 1080x360 with 3 Axes>"
            ]
          },
          "metadata": {
            "tags": []
          }
        },
        {
          "output_type": "stream",
          "text": [
            "Tüm veri kümesi '0' yüzdesi : %62 \n",
            "Test verisi '0' yüzdesi     : %68 \n",
            "Eğitim verisi '0' yüzdesi   : %60 \n"
          ],
          "name": "stdout"
        }
      ]
    },
    {
      "cell_type": "code",
      "metadata": {
        "id": "0bmp5G43-u2m",
        "colab_type": "code",
        "colab": {
          "base_uri": "https://localhost:8080/",
          "height": 67
        },
        "outputId": "3cd2c622-8efd-49fe-fdbc-435bb73d95ac"
      },
      "source": [
        "X_egitim, X_test, Y_egitim, Y_test = train_test_split(X, Y, test_size=0.2, stratify=Y)\n",
        "\n",
        "print(\"Tüm veri kümesi '0' yüzdesi : %{:.0f} \".format(len(Y[Y==0])/len(Y)*100))\n",
        "print(\"Test verisi '0' yüzdesi     : %{:.0f} \".format(len(Y_test[Y_test==0])/len(Y_test)*100))\n",
        "print(\"Eğitim verisi '0' yüzdesi   : %{:.0f} \".format(len(Y_egitim[Y_egitim==0])/len(Y_egitim)*100))"
      ],
      "execution_count": 55,
      "outputs": [
        {
          "output_type": "stream",
          "text": [
            "Tüm veri kümesi '0' yüzdesi : %62 \n",
            "Test verisi '0' yüzdesi     : %61 \n",
            "Eğitim verisi '0' yüzdesi   : %62 \n"
          ],
          "name": "stdout"
        }
      ]
    },
    {
      "cell_type": "code",
      "metadata": {
        "id": "Lr7QVRAT_A13",
        "colab_type": "code",
        "colab": {
          "base_uri": "https://localhost:8080/",
          "height": 34
        },
        "outputId": "deb6d656-0f57-4bdf-c3ce-1dc1ddd72588"
      },
      "source": [
        "from sklearn.linear_model import LogisticRegression\n",
        "model = LogisticRegression()\n",
        "model.fit(X_egitim, Y_egitim)\n",
        "tahmin_eğitim = model.predict(X_egitim)\n",
        "tahmin_test = model.predict(X_test)\n",
        "model.score(X_test, Y_test)"
      ],
      "execution_count": 56,
      "outputs": [
        {
          "output_type": "execute_result",
          "data": {
            "text/plain": [
              "0.7877094972067039"
            ]
          },
          "metadata": {
            "tags": []
          },
          "execution_count": 56
        }
      ]
    },
    {
      "cell_type": "code",
      "metadata": {
        "id": "3XMunARw_Pih",
        "colab_type": "code",
        "colab": {}
      },
      "source": [
        "from sklearn.model_selection import KFold\n",
        "kf = KFold(n_splits=5, shuffle=True, random_state=1111)"
      ],
      "execution_count": 57,
      "outputs": []
    },
    {
      "cell_type": "code",
      "metadata": {
        "id": "VipBEQzW_SpU",
        "colab_type": "code",
        "colab": {
          "base_uri": "https://localhost:8080/",
          "height": 269
        },
        "outputId": "c2ba1c9d-e131-423f-97ea-cbe663bac161"
      },
      "source": [
        "parcalar = kf.split(X)\n",
        "for num, (eğitim_index, test_index) in enumerate(parcalar):\n",
        "    print(\"{}.Eğitim Kümesi Boyutu : {}\".format(num+1,len(eğitim_index)))\n",
        "    print(\"{}.Test Kümesi Boyutu   : {}\".format(num+1,len(test_index)))\n",
        "    print('-'*27)"
      ],
      "execution_count": 58,
      "outputs": [
        {
          "output_type": "stream",
          "text": [
            "1.Eğitim Kümesi Boyutu : 712\n",
            "1.Test Kümesi Boyutu   : 179\n",
            "---------------------------\n",
            "2.Eğitim Kümesi Boyutu : 713\n",
            "2.Test Kümesi Boyutu   : 178\n",
            "---------------------------\n",
            "3.Eğitim Kümesi Boyutu : 713\n",
            "3.Test Kümesi Boyutu   : 178\n",
            "---------------------------\n",
            "4.Eğitim Kümesi Boyutu : 713\n",
            "4.Test Kümesi Boyutu   : 178\n",
            "---------------------------\n",
            "5.Eğitim Kümesi Boyutu : 713\n",
            "5.Test Kümesi Boyutu   : 178\n",
            "---------------------------\n"
          ],
          "name": "stdout"
        }
      ]
    },
    {
      "cell_type": "code",
      "metadata": {
        "id": "B1N2YAm3_lO_",
        "colab_type": "code",
        "colab": {
          "base_uri": "https://localhost:8080/",
          "height": 387
        },
        "outputId": "463701de-f05a-4532-9614-3cdf19fb15c5"
      },
      "source": [
        "from sklearn.metrics import mean_squared_error\n",
        "model2 = LogisticRegression()\n",
        "parcalar = kf.split(X)\n",
        "dogruluk_liste = []\n",
        "for i, (eğitim_indeks, test_indeks) in enumerate(parcalar):\n",
        "    X_egitim, Y_egitim = X[eğitim_indeks], Y[eğitim_indeks]\n",
        "    X_test, Y_test = X[test_indeks], Y[test_indeks]\n",
        "    model2.fit(X_egitim, Y_egitim)\n",
        "    tahmin = model2.predict(X_test)\n",
        "    dogruluk_degeri = model.score(X_test, Y_test)  \n",
        "    dogruluk_liste.append(dogruluk_degeri)\n",
        "    print(\"{}.Parça Doğruluk Değeri: {:.3f}\".format(i+1, dogruluk_degeri))\n",
        "    print(\"-\"*30)"
      ],
      "execution_count": 60,
      "outputs": [
        {
          "output_type": "error",
          "ename": "KeyError",
          "evalue": "ignored",
          "traceback": [
            "\u001b[0;31m---------------------------------------------------------------------------\u001b[0m",
            "\u001b[0;31mKeyError\u001b[0m                                  Traceback (most recent call last)",
            "\u001b[0;32m<ipython-input-60-df9635748b79>\u001b[0m in \u001b[0;36m<module>\u001b[0;34m()\u001b[0m\n\u001b[1;32m      4\u001b[0m \u001b[0mdogruluk_liste\u001b[0m \u001b[0;34m=\u001b[0m \u001b[0;34m[\u001b[0m\u001b[0;34m]\u001b[0m\u001b[0;34m\u001b[0m\u001b[0;34m\u001b[0m\u001b[0m\n\u001b[1;32m      5\u001b[0m \u001b[0;32mfor\u001b[0m \u001b[0mi\u001b[0m\u001b[0;34m,\u001b[0m \u001b[0;34m(\u001b[0m\u001b[0meğitim_indeks\u001b[0m\u001b[0;34m,\u001b[0m \u001b[0mtest_indeks\u001b[0m\u001b[0;34m)\u001b[0m \u001b[0;32min\u001b[0m \u001b[0menumerate\u001b[0m\u001b[0;34m(\u001b[0m\u001b[0mparcalar\u001b[0m\u001b[0;34m)\u001b[0m\u001b[0;34m:\u001b[0m\u001b[0;34m\u001b[0m\u001b[0;34m\u001b[0m\u001b[0m\n\u001b[0;32m----> 6\u001b[0;31m     \u001b[0mX_egitim\u001b[0m\u001b[0;34m,\u001b[0m \u001b[0mY_egitim\u001b[0m \u001b[0;34m=\u001b[0m \u001b[0mX\u001b[0m\u001b[0;34m[\u001b[0m\u001b[0meğitim_indeks\u001b[0m\u001b[0;34m]\u001b[0m\u001b[0;34m,\u001b[0m \u001b[0mY\u001b[0m\u001b[0;34m[\u001b[0m\u001b[0meğitim_indeks\u001b[0m\u001b[0;34m]\u001b[0m\u001b[0;34m\u001b[0m\u001b[0;34m\u001b[0m\u001b[0m\n\u001b[0m\u001b[1;32m      7\u001b[0m     \u001b[0mX_test\u001b[0m\u001b[0;34m,\u001b[0m \u001b[0mY_test\u001b[0m \u001b[0;34m=\u001b[0m \u001b[0mX\u001b[0m\u001b[0;34m[\u001b[0m\u001b[0mtest_indeks\u001b[0m\u001b[0;34m]\u001b[0m\u001b[0;34m,\u001b[0m \u001b[0mY\u001b[0m\u001b[0;34m[\u001b[0m\u001b[0mtest_indeks\u001b[0m\u001b[0;34m]\u001b[0m\u001b[0;34m\u001b[0m\u001b[0;34m\u001b[0m\u001b[0m\n\u001b[1;32m      8\u001b[0m     \u001b[0mmodel2\u001b[0m\u001b[0;34m.\u001b[0m\u001b[0mfit\u001b[0m\u001b[0;34m(\u001b[0m\u001b[0mX_egitim\u001b[0m\u001b[0;34m,\u001b[0m \u001b[0mY_egitim\u001b[0m\u001b[0;34m)\u001b[0m\u001b[0;34m\u001b[0m\u001b[0;34m\u001b[0m\u001b[0m\n",
            "\u001b[0;32m/usr/local/lib/python3.6/dist-packages/pandas/core/frame.py\u001b[0m in \u001b[0;36m__getitem__\u001b[0;34m(self, key)\u001b[0m\n\u001b[1;32m   2804\u001b[0m             \u001b[0;32mif\u001b[0m \u001b[0mis_iterator\u001b[0m\u001b[0;34m(\u001b[0m\u001b[0mkey\u001b[0m\u001b[0;34m)\u001b[0m\u001b[0;34m:\u001b[0m\u001b[0;34m\u001b[0m\u001b[0;34m\u001b[0m\u001b[0m\n\u001b[1;32m   2805\u001b[0m                 \u001b[0mkey\u001b[0m \u001b[0;34m=\u001b[0m \u001b[0mlist\u001b[0m\u001b[0;34m(\u001b[0m\u001b[0mkey\u001b[0m\u001b[0;34m)\u001b[0m\u001b[0;34m\u001b[0m\u001b[0;34m\u001b[0m\u001b[0m\n\u001b[0;32m-> 2806\u001b[0;31m             \u001b[0mindexer\u001b[0m \u001b[0;34m=\u001b[0m \u001b[0mself\u001b[0m\u001b[0;34m.\u001b[0m\u001b[0mloc\u001b[0m\u001b[0;34m.\u001b[0m\u001b[0m_get_listlike_indexer\u001b[0m\u001b[0;34m(\u001b[0m\u001b[0mkey\u001b[0m\u001b[0;34m,\u001b[0m \u001b[0maxis\u001b[0m\u001b[0;34m=\u001b[0m\u001b[0;36m1\u001b[0m\u001b[0;34m,\u001b[0m \u001b[0mraise_missing\u001b[0m\u001b[0;34m=\u001b[0m\u001b[0;32mTrue\u001b[0m\u001b[0;34m)\u001b[0m\u001b[0;34m[\u001b[0m\u001b[0;36m1\u001b[0m\u001b[0;34m]\u001b[0m\u001b[0;34m\u001b[0m\u001b[0;34m\u001b[0m\u001b[0m\n\u001b[0m\u001b[1;32m   2807\u001b[0m \u001b[0;34m\u001b[0m\u001b[0m\n\u001b[1;32m   2808\u001b[0m         \u001b[0;31m# take() does not accept boolean indexers\u001b[0m\u001b[0;34m\u001b[0m\u001b[0;34m\u001b[0m\u001b[0;34m\u001b[0m\u001b[0m\n",
            "\u001b[0;32m/usr/local/lib/python3.6/dist-packages/pandas/core/indexing.py\u001b[0m in \u001b[0;36m_get_listlike_indexer\u001b[0;34m(self, key, axis, raise_missing)\u001b[0m\n\u001b[1;32m   1551\u001b[0m \u001b[0;34m\u001b[0m\u001b[0m\n\u001b[1;32m   1552\u001b[0m         self._validate_read_indexer(\n\u001b[0;32m-> 1553\u001b[0;31m             \u001b[0mkeyarr\u001b[0m\u001b[0;34m,\u001b[0m \u001b[0mindexer\u001b[0m\u001b[0;34m,\u001b[0m \u001b[0mo\u001b[0m\u001b[0;34m.\u001b[0m\u001b[0m_get_axis_number\u001b[0m\u001b[0;34m(\u001b[0m\u001b[0maxis\u001b[0m\u001b[0;34m)\u001b[0m\u001b[0;34m,\u001b[0m \u001b[0mraise_missing\u001b[0m\u001b[0;34m=\u001b[0m\u001b[0mraise_missing\u001b[0m\u001b[0;34m\u001b[0m\u001b[0;34m\u001b[0m\u001b[0m\n\u001b[0m\u001b[1;32m   1554\u001b[0m         )\n\u001b[1;32m   1555\u001b[0m         \u001b[0;32mreturn\u001b[0m \u001b[0mkeyarr\u001b[0m\u001b[0;34m,\u001b[0m \u001b[0mindexer\u001b[0m\u001b[0;34m\u001b[0m\u001b[0;34m\u001b[0m\u001b[0m\n",
            "\u001b[0;32m/usr/local/lib/python3.6/dist-packages/pandas/core/indexing.py\u001b[0m in \u001b[0;36m_validate_read_indexer\u001b[0;34m(self, key, indexer, axis, raise_missing)\u001b[0m\n\u001b[1;32m   1638\u001b[0m             \u001b[0;32mif\u001b[0m \u001b[0mmissing\u001b[0m \u001b[0;34m==\u001b[0m \u001b[0mlen\u001b[0m\u001b[0;34m(\u001b[0m\u001b[0mindexer\u001b[0m\u001b[0;34m)\u001b[0m\u001b[0;34m:\u001b[0m\u001b[0;34m\u001b[0m\u001b[0;34m\u001b[0m\u001b[0m\n\u001b[1;32m   1639\u001b[0m                 \u001b[0maxis_name\u001b[0m \u001b[0;34m=\u001b[0m \u001b[0mself\u001b[0m\u001b[0;34m.\u001b[0m\u001b[0mobj\u001b[0m\u001b[0;34m.\u001b[0m\u001b[0m_get_axis_name\u001b[0m\u001b[0;34m(\u001b[0m\u001b[0maxis\u001b[0m\u001b[0;34m)\u001b[0m\u001b[0;34m\u001b[0m\u001b[0;34m\u001b[0m\u001b[0m\n\u001b[0;32m-> 1640\u001b[0;31m                 \u001b[0;32mraise\u001b[0m \u001b[0mKeyError\u001b[0m\u001b[0;34m(\u001b[0m\u001b[0;34mf\"None of [{key}] are in the [{axis_name}]\"\u001b[0m\u001b[0;34m)\u001b[0m\u001b[0;34m\u001b[0m\u001b[0;34m\u001b[0m\u001b[0m\n\u001b[0m\u001b[1;32m   1641\u001b[0m \u001b[0;34m\u001b[0m\u001b[0m\n\u001b[1;32m   1642\u001b[0m             \u001b[0;31m# We (temporarily) allow for some missing keys with .loc, except in\u001b[0m\u001b[0;34m\u001b[0m\u001b[0;34m\u001b[0m\u001b[0;34m\u001b[0m\u001b[0m\n",
            "\u001b[0;31mKeyError\u001b[0m: \"None of [Int64Index([  3,   4,   5,   6,   8,   9,  10,  11,  12,  13,\\n            ...\\n            878, 879, 881, 882, 884, 885, 886, 887, 888, 890],\\n           dtype='int64', length=712)] are in the [columns]\""
          ]
        }
      ]
    }
  ]
}